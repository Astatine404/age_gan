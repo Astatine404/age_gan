{
 "cells": [
  {
   "cell_type": "code",
   "execution_count": 1,
   "metadata": {},
   "outputs": [],
   "source": [
    "import tensorflow as tf\n",
    "import numpy as np\n",
    "import sys\n",
    "from tensorflow.examples.tutorials.mnist import input_data\n",
    "import matplotlib.pyplot as plt\n",
    "\n"
   ]
  },
  {
   "cell_type": "code",
   "execution_count": 2,
   "metadata": {},
   "outputs": [
    {
     "name": "stdout",
     "output_type": "stream",
     "text": [
      "Extracting MNIST_data/train-images-idx3-ubyte.gz\n",
      "Extracting MNIST_data/train-labels-idx1-ubyte.gz\n",
      "Extracting MNIST_data/t10k-images-idx3-ubyte.gz\n",
      "Extracting MNIST_data/t10k-labels-idx1-ubyte.gz\n"
     ]
    }
   ],
   "source": [
    "mnist = input_data.read_data_sets(\"MNIST_data/\",one_hot=True)\n",
    "train_set = mnist.train.images*2 - 1\n",
    "train_labels = mnist.train.labels"
   ]
  },
  {
   "cell_type": "code",
   "execution_count": 5,
   "metadata": {},
   "outputs": [
    {
     "data": {
      "text/plain": [
       "(10,)"
      ]
     },
     "execution_count": 5,
     "metadata": {},
     "output_type": "execute_result"
    }
   ],
   "source": [
    "mnist.train.labels[0].shape"
   ]
  },
  {
   "cell_type": "code",
   "execution_count": null,
   "metadata": {},
   "outputs": [],
   "source": [
    "def generator(z, Y, reuse=None):\n",
    "\twith tf.variable_scope('gen',reuse=reuse):\n",
    "        \n",
    "\t\tip = tf.concat([z, Y], 1)\n",
    "\t\thidden1 = tf.layers.dense(inputs=ip,units=128)\n",
    "\n",
    "\t\talpha = 0.01\n",
    "\t\thidden1 = tf.maximum(alpha*hidden1, hidden1)\n",
    "\n",
    "\t\thidden2 = tf.layers.dense(inputs=hidden1,units=128)\n",
    "\n",
    "\t\thidden2 = tf.maximum(alpha*hidden2,hidden2)\n",
    "\n",
    "\t\toutput = tf.layers.dense(hidden2,units=784,activation=tf.nn.tanh)\n",
    "\n",
    "\t\treturn output"
   ]
  },
  {
   "cell_type": "code",
   "execution_count": null,
   "metadata": {},
   "outputs": [],
   "source": [
    "def discriminator(X, Y, reuse=None):\n",
    "\twith tf.variable_scope('dis',reuse=reuse):\n",
    "        \n",
    "\t\tip = tf.concat([X, Y], 1)\n",
    "\t\thidden1 = tf.layers.dense(inputs=ip,units=128)\n",
    "\n",
    "\t\talpha = 0.01\n",
    "\t\thidden1 = tf.maximum(alpha*hidden1, hidden1)\n",
    "\n",
    "\t\thidden2 = tf.layers.dense(inputs=hidden1,units=128)\n",
    "\n",
    "\t\thidden2 = tf.maximum(alpha*hidden2,hidden2)\n",
    "\n",
    "\t\tlogits = tf.layers.dense(hidden2, units=1)\n",
    "\t\toutput = tf.sigmoid(logits)\n",
    "\n",
    "\t\treturn output,logits"
   ]
  },
  {
   "cell_type": "code",
   "execution_count": null,
   "metadata": {},
   "outputs": [],
   "source": [
    "real_images = tf.placeholder(tf.float32,shape=[None,784])\n",
    "y = tf.placeholder(tf.float32, shape=(None, 10))\n",
    "z = tf.placeholder(tf.float32,shape=[None,100])\n",
    "onehot = np.eye(10)\n",
    "\n",
    "G = generator(z, y)\n",
    "\n",
    "D_output_real , D_logits_real = discriminator(real_images, y)\n",
    "\n",
    "D_output_fake , D_logits_fake = discriminator(G, y, reuse=True)"
   ]
  },
  {
   "cell_type": "code",
   "execution_count": null,
   "metadata": {},
   "outputs": [],
   "source": [
    "#LOSSES\n",
    "def loss_func(logits_in, labels_in):\n",
    "\treturn tf.reduce_mean(tf.nn.sigmoid_cross_entropy_with_logits(\n",
    "\t\tlogits=logits_in,labels=labels_in))\n",
    "\n",
    "D_real_loss = loss_func(D_logits_real, tf.ones_like(D_logits_real)*0.9) #SMOOTHING\n",
    "D_fake_loss = loss_func(D_logits_fake, tf.zeros_like(D_logits_fake))\n",
    "\n",
    "D_loss = D_real_loss + D_fake_loss\n",
    "\n",
    "G_loss = loss_func(D_logits_fake, tf.ones_like(D_logits_fake))\n",
    "\n",
    "learning_rate = 0.001\n",
    "\n",
    "tvars = tf.trainable_variables()\n",
    "\n",
    "d_vars = [var for var in tvars if 'dis' in var.name]\n",
    "g_vars = [var for var in tvars if 'gen' in var.name]\n",
    "\n",
    "D_trainer = tf.train.AdamOptimizer(learning_rate).minimize(D_loss,var_list=d_vars)\n",
    "G_trainer = tf.train.AdamOptimizer(learning_rate).minimize(G_loss,var_list=g_vars)"
   ]
  },
  {
   "cell_type": "code",
   "execution_count": null,
   "metadata": {},
   "outputs": [],
   "source": [
    "batch_size = 100\n",
    "epochs = 100\n",
    "init = tf.global_variables_initializer()\n",
    "samples = []"
   ]
  },
  {
   "cell_type": "code",
   "execution_count": null,
   "metadata": {},
   "outputs": [],
   "source": [
    "with tf.Session() as sess:\n",
    "\tsess.run(init)\n",
    "\n",
    "\tfor epoch in range(epochs):\n",
    "\n",
    "\t\tfor i in range(len(train_set) // batch_size):\n",
    "\n",
    "\t\t\t#update discriminator\n",
    "\t\t\tx_ = train_set[i * batch_size:(i + 1) * batch_size]\n",
    "\t\t\ty_ = train_labels[i * batch_size:(i + 1) * batch_size]\n",
    "\n",
    "\t\t\tbatch_z = np.random.uniform(-1,1,size=(batch_size,100))\n",
    "\n",
    "\t\t\t_, D_loss_curr = sess.run([D_trainer, D_loss] ,feed_dict={real_images:x_, y:y_ ,z:batch_z})\n",
    "            \n",
    "            #update generator\n",
    "\t\t\ty_ = np.random.randint(0, 9, (batch_size, 1))\n",
    "\t\t\ty_ = onehot[y_.astype(np.int32)].squeeze()\n",
    "\t\t\t_, G_loss_curr = sess.run([G_trainer, G_loss] ,feed_dict={z:batch_z, y:y_})\n",
    "\n",
    "\t\tprint(\"ON EPOCH {}: D_loss={}, G_loss={}\".format(epoch,D_loss_curr,G_loss_curr))\n",
    "\n",
    "\t\tsample_z = np.random.uniform(-1,1,size=(1,100))\n",
    "\t\tsample_y = np.random.randint(0, 9, (1, 1))\n",
    "\t\tsample_y = onehot[sample_y.astype(np.int32)].squeeze()\n",
    "\t\tsample_y = sample_y.reshape(1,10)\n",
    "\t\tgen_sample = sess.run(generator(z,y,reuse=True),feed_dict={z:sample_z, y:sample_y})\n",
    "\n",
    "\t\tsamples.append(gen_sample)\t\n",
    "        \n",
    "\tsaver = tf.train.Saver(var_list=g_vars)\n",
    "\tsaver.save(sess, './models/30e_label.ckpt')"
   ]
  },
  {
   "cell_type": "code",
   "execution_count": null,
   "metadata": {},
   "outputs": [],
   "source": [
    "%matplotlib inline\n",
    "plt.imshow(samples[19].reshape(28,28))"
   ]
  },
  {
   "cell_type": "code",
   "execution_count": null,
   "metadata": {},
   "outputs": [],
   "source": [
    "with tf.Session() as sess:\n",
    "    saver = tf.train.Saver(var_list=g_vars)\n",
    "    saver.restore(sess, './models/30e_label.ckpt')\n",
    "    res_samp = []\n",
    "    \n",
    "    for i in range(10):\n",
    "        gen_z = np.random.uniform(-1,1,size=(1,100))\n",
    "        gen_y = np.array([[8]])\n",
    "        gen_y=onehot[gen_y.astype(np.int32)].squeeze().reshape(1,10)\n",
    "\n",
    "        res_samp.append(sess.run(generator(z, y, reuse=True), feed_dict={z:gen_z, y:gen_y}))"
   ]
  },
  {
   "cell_type": "code",
   "execution_count": null,
   "metadata": {},
   "outputs": [],
   "source": [
    "plt.imshow(res_samp[6].reshape(28,28), cmap='gist_gray')"
   ]
  },
  {
   "cell_type": "code",
   "execution_count": null,
   "metadata": {},
   "outputs": [],
   "source": []
  },
  {
   "cell_type": "code",
   "execution_count": null,
   "metadata": {},
   "outputs": [],
   "source": []
  },
  {
   "cell_type": "code",
   "execution_count": null,
   "metadata": {},
   "outputs": [],
   "source": []
  }
 ],
 "metadata": {
  "kernelspec": {
   "display_name": "Python 3",
   "language": "python",
   "name": "python3"
  },
  "language_info": {
   "codemirror_mode": {
    "name": "ipython",
    "version": 3
   },
   "file_extension": ".py",
   "mimetype": "text/x-python",
   "name": "python",
   "nbconvert_exporter": "python",
   "pygments_lexer": "ipython3",
   "version": "3.6.2"
  }
 },
 "nbformat": 4,
 "nbformat_minor": 2
}
