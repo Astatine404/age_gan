{
 "cells": [
  {
   "cell_type": "code",
   "execution_count": 1,
   "metadata": {},
   "outputs": [],
   "source": [
    "import tensorflow as tf\n",
    "import numpy as np\n",
    "import matplotlib.pyplot as plt\n",
    "import scipy.io as si"
   ]
  },
  {
   "cell_type": "code",
   "execution_count": 2,
   "metadata": {},
   "outputs": [],
   "source": [
    "data = si.loadmat('data/wiki_db.mat')"
   ]
  },
  {
   "cell_type": "code",
   "execution_count": 3,
   "metadata": {},
   "outputs": [],
   "source": [
    "train_set = data['image'].reshape(38138,-1)/255"
   ]
  },
  {
   "cell_type": "code",
   "execution_count": 21,
   "metadata": {},
   "outputs": [],
   "source": [
    "def one_hot_enc(vec, vals=10):\n",
    "    out = np.zeros((vals,))\n",
    "    for i in range(len(vec)):\n",
    "        l = np.zeros((vals,))\n",
    "        index = int(vec[i]/10)\n",
    "        if index!=10:\n",
    "            l[index] = 1\n",
    "        else:\n",
    "            l[9] = 1\n",
    "        out = np.vstack((out,l))\n",
    "    out = np.delete(out,0,0)\n",
    "    return out"
   ]
  },
  {
   "cell_type": "code",
   "execution_count": 22,
   "metadata": {},
   "outputs": [],
   "source": [
    "labels = one_hot_enc(data['age'][0],10)"
   ]
  },
  {
   "cell_type": "code",
   "execution_count": 30,
   "metadata": {},
   "outputs": [
    {
     "data": {
      "text/plain": [
       "array([ 0.,  0.,  0.,  1.,  0.,  0.,  0.,  0.,  0.,  0.])"
      ]
     },
     "execution_count": 30,
     "metadata": {},
     "output_type": "execute_result"
    }
   ],
   "source": [
    "labels[6]"
   ]
  },
  {
   "cell_type": "code",
   "execution_count": 31,
   "metadata": {},
   "outputs": [
    {
     "data": {
      "text/plain": [
       "36"
      ]
     },
     "execution_count": 31,
     "metadata": {},
     "output_type": "execute_result"
    }
   ],
   "source": [
    "data['age'][0][6]"
   ]
  },
  {
   "cell_type": "code",
   "execution_count": 32,
   "metadata": {},
   "outputs": [],
   "source": [
    "def generator(z, Y, reuse=None):\n",
    "\twith tf.variable_scope('gen',reuse=reuse):\n",
    "        \n",
    "\t\tip = tf.concat([z, Y], 1)\n",
    "\t\thidden1 = tf.layers.dense(inputs=ip,units=128)\n",
    "\n",
    "\t\talpha = 0.01\n",
    "\t\thidden1 = tf.maximum(alpha*hidden1, hidden1)\n",
    "\n",
    "\t\thidden2 = tf.layers.dense(inputs=hidden1,units=128)\n",
    "\n",
    "\t\thidden2 = tf.maximum(alpha*hidden2,hidden2)\n",
    "\n",
    "\t\toutput = tf.layers.dense(hidden2,units=12288,activation=tf.nn.tanh)\n",
    "\n",
    "\t\treturn output"
   ]
  },
  {
   "cell_type": "code",
   "execution_count": 33,
   "metadata": {},
   "outputs": [],
   "source": [
    "def discriminator(X, Y, reuse=None):\n",
    "\twith tf.variable_scope('dis',reuse=reuse):\n",
    "        \n",
    "\t\tip = tf.concat([X, Y], 1)\n",
    "\t\thidden1 = tf.layers.dense(inputs=ip,units=128)\n",
    "\n",
    "\t\talpha = 0.01\n",
    "\t\thidden1 = tf.maximum(alpha*hidden1, hidden1)\n",
    "\n",
    "\t\thidden2 = tf.layers.dense(inputs=hidden1,units=128)\n",
    "\n",
    "\t\thidden2 = tf.maximum(alpha*hidden2,hidden2)\n",
    "\n",
    "\t\tlogits = tf.layers.dense(hidden2, units=1)\n",
    "\t\toutput = tf.sigmoid(logits)\n",
    "\n",
    "\t\treturn output,logits"
   ]
  },
  {
   "cell_type": "code",
   "execution_count": 34,
   "metadata": {},
   "outputs": [],
   "source": [
    "real_images = tf.placeholder(tf.float32,shape=[None,12288])\n",
    "y = tf.placeholder(tf.float32, shape=(None, 10))\n",
    "z = tf.placeholder(tf.float32,shape=[None,100])\n",
    "onehot = np.eye(10)\n",
    "\n",
    "G = generator(z, y)\n",
    "\n",
    "D_output_real , D_logits_real = discriminator(real_images, y)\n",
    "\n",
    "D_output_fake , D_logits_fake = discriminator(G, y, reuse=True)"
   ]
  },
  {
   "cell_type": "code",
   "execution_count": 35,
   "metadata": {},
   "outputs": [],
   "source": [
    "#LOSSES\n",
    "def loss_func(logits_in, labels_in):\n",
    "\treturn tf.reduce_mean(tf.nn.sigmoid_cross_entropy_with_logits(\n",
    "\t\tlogits=logits_in,labels=labels_in))\n",
    "\n",
    "D_real_loss = loss_func(D_logits_real, tf.ones_like(D_logits_real)*0.9) #SMOOTHING\n",
    "D_fake_loss = loss_func(D_logits_fake, tf.zeros_like(D_logits_fake))\n",
    "\n",
    "D_loss = D_real_loss + D_fake_loss\n",
    "\n",
    "G_loss = loss_func(D_logits_fake, tf.ones_like(D_logits_fake))\n",
    "\n",
    "learning_rate = 0.001\n",
    "\n",
    "tvars = tf.trainable_variables()\n",
    "\n",
    "d_vars = [var for var in tvars if 'dis' in var.name]\n",
    "g_vars = [var for var in tvars if 'gen' in var.name]\n",
    "\n",
    "D_trainer = tf.train.AdamOptimizer(learning_rate).minimize(D_loss,var_list=d_vars)\n",
    "G_trainer = tf.train.AdamOptimizer(learning_rate).minimize(G_loss,var_list=g_vars)"
   ]
  },
  {
   "cell_type": "code",
   "execution_count": 36,
   "metadata": {},
   "outputs": [],
   "source": [
    "batch_size = 100\n",
    "epochs = 30\n",
    "init = tf.global_variables_initializer()\n",
    "samples = []"
   ]
  },
  {
   "cell_type": "code",
   "execution_count": 37,
   "metadata": {},
   "outputs": [
    {
     "name": "stdout",
     "output_type": "stream",
     "text": [
      "ON EPOCH 0: D_loss=0.5629875063896179, G_loss=2.108116865158081\n",
      "ON EPOCH 1: D_loss=0.46366673707962036, G_loss=3.2979180812835693\n",
      "ON EPOCH 2: D_loss=0.6765509843826294, G_loss=2.035250663757324\n",
      "ON EPOCH 3: D_loss=0.762452244758606, G_loss=1.9052150249481201\n",
      "ON EPOCH 4: D_loss=0.529211699962616, G_loss=2.838940143585205\n",
      "ON EPOCH 5: D_loss=0.8633532524108887, G_loss=7.624989032745361\n",
      "ON EPOCH 6: D_loss=2.198737382888794, G_loss=1.9464765787124634\n",
      "ON EPOCH 7: D_loss=1.1559975147247314, G_loss=2.0400266647338867\n",
      "ON EPOCH 8: D_loss=0.7823984622955322, G_loss=4.371850967407227\n",
      "ON EPOCH 9: D_loss=0.5669428110122681, G_loss=5.300950527191162\n",
      "ON EPOCH 10: D_loss=2.1876418590545654, G_loss=1.0240635871887207\n",
      "ON EPOCH 11: D_loss=5.0635271072387695, G_loss=2.409074544906616\n",
      "ON EPOCH 12: D_loss=0.539740264415741, G_loss=4.472602844238281\n",
      "ON EPOCH 13: D_loss=1.1749838590621948, G_loss=9.211437225341797\n",
      "ON EPOCH 14: D_loss=0.8140189051628113, G_loss=8.501993179321289\n",
      "ON EPOCH 15: D_loss=0.691657543182373, G_loss=6.202737331390381\n",
      "ON EPOCH 16: D_loss=0.818761944770813, G_loss=3.162198543548584\n",
      "ON EPOCH 17: D_loss=6.51702880859375, G_loss=3.98612117767334\n",
      "ON EPOCH 18: D_loss=0.568007230758667, G_loss=3.67952036857605\n",
      "ON EPOCH 19: D_loss=4.095983982086182, G_loss=2.011948347091675\n",
      "ON EPOCH 20: D_loss=0.6847237944602966, G_loss=2.8282220363616943\n",
      "ON EPOCH 21: D_loss=1.2660454511642456, G_loss=2.0386245250701904\n",
      "ON EPOCH 22: D_loss=0.8353389501571655, G_loss=4.795144557952881\n",
      "ON EPOCH 23: D_loss=0.919966459274292, G_loss=2.5024683475494385\n",
      "ON EPOCH 24: D_loss=0.49552997946739197, G_loss=3.445024013519287\n",
      "ON EPOCH 25: D_loss=0.7625647783279419, G_loss=3.677269220352173\n",
      "ON EPOCH 26: D_loss=1.7016156911849976, G_loss=4.7012224197387695\n",
      "ON EPOCH 27: D_loss=1.7713348865509033, G_loss=3.0825555324554443\n",
      "ON EPOCH 28: D_loss=1.0458900928497314, G_loss=3.1557857990264893\n",
      "ON EPOCH 29: D_loss=1.7693548202514648, G_loss=3.335282564163208\n"
     ]
    }
   ],
   "source": [
    "with tf.Session() as sess:\n",
    "\tsess.run(init)\n",
    "\n",
    "\tfor epoch in range(epochs):\n",
    "\n",
    "\t\tfor i in range(len(train_set) // batch_size):\n",
    "\n",
    "\t\t\t#update discriminator\n",
    "\t\t\tx_ = train_set[i * batch_size:(i + 1) * batch_size]\n",
    "\t\t\ty_ = labels[i * batch_size:(i + 1) * batch_size]\n",
    "\n",
    "\t\t\tbatch_z = np.random.uniform(-1,1,size=(batch_size,100))\n",
    "\n",
    "\t\t\t_, D_loss_curr = sess.run([D_trainer, D_loss] ,feed_dict={real_images:x_, y:y_ ,z:batch_z})\n",
    "            \n",
    "            #update generator\n",
    "\t\t\ty_ = np.random.randint(0, 9, (batch_size, 1))\n",
    "\t\t\ty_ = onehot[y_.astype(np.int32)].squeeze()\n",
    "\t\t\t_, G_loss_curr = sess.run([G_trainer, G_loss] ,feed_dict={z:batch_z, y:y_})\n",
    "\n",
    "\t\tprint(\"ON EPOCH {}: D_loss={}, G_loss={}\".format(epoch,D_loss_curr,G_loss_curr))\n",
    "\n",
    "\t\t'''sample_z = np.random.uniform(-1,1,size=(1,100))\n",
    "\t\tsample_y = np.random.randint(0, 9, (1, 1))\n",
    "\t\tsample_y = onehot[sample_y.astype(np.int32)].squeeze()\n",
    "\t\tsample_y = sample_y.reshape(1,10)\n",
    "\t\tgen_sample = sess.run(generator(z,y,reuse=True),feed_dict={z:sample_z, y:sample_y})\n",
    "\n",
    "\t\tsamples.append(gen_sample)\t'''\n",
    "        \n",
    "\tsaver = tf.train.Saver(var_list=g_vars)\n",
    "\tsaver.save(sess, './models/30e_agegan_1.ckpt')"
   ]
  },
  {
   "cell_type": "code",
   "execution_count": 75,
   "metadata": {},
   "outputs": [
    {
     "name": "stdout",
     "output_type": "stream",
     "text": [
      "INFO:tensorflow:Restoring parameters from ./models/100e_ckpt/30e_agegan_1.ckpt\n"
     ]
    }
   ],
   "source": [
    "with tf.Session() as sess:\n",
    "    saver = tf.train.Saver(var_list=g_vars)\n",
    "    saver.restore(sess, './models/100e_ckpt/30e_agegan_1.ckpt')\n",
    "    res_samp = []\n",
    "    \n",
    "    for i in range(10):\n",
    "        gen_z = np.random.uniform(-1,1,size=(1,100))\n",
    "        gen_y = np.array([[4]])\n",
    "        gen_y=onehot[gen_y.astype(np.int32)].squeeze().reshape(1,10)\n",
    "\n",
    "        res_samp.append(sess.run(generator(z, y, reuse=True), feed_dict={z:gen_z, y:gen_y}))"
   ]
  },
  {
   "cell_type": "code",
   "execution_count": 81,
   "metadata": {},
   "outputs": [
    {
     "data": {
      "text/plain": [
       "<matplotlib.image.AxesImage at 0x7f181f435208>"
      ]
     },
     "execution_count": 81,
     "metadata": {},
     "output_type": "execute_result"
    },
    {
     "data": {
      "image/png": "[encoded data removed]",
      "text/plain": [
       "<matplotlib.figure.Figure at 0x7f181f59ebe0>"
      ]
     },
     "metadata": {},
     "output_type": "display_data"
    }
   ],
   "source": [
    "%matplotlib inline\n",
    "import cv2\n",
    "plt.imshow(cv2.cvtColor(res_samp[5].reshape(64,64,3), cv2.COLOR_BGR2RGB))\n"
   ]
  },
  {
   "cell_type": "code",
   "execution_count": null,
   "metadata": {},
   "outputs": [],
   "source": []
  }
 ],
 "metadata": {
  "kernelspec": {
   "display_name": "Python 3",
   "language": "python",
   "name": "python3"
  },
  "language_info": {
   "codemirror_mode": {
    "name": "ipython",
    "version": 3
   },
   "file_extension": ".py",
   "mimetype": "text/x-python",
   "name": "python",
   "nbconvert_exporter": "python",
   "pygments_lexer": "ipython3",
   "version": "3.6.2"
  }
 },
 "nbformat": 4,
 "nbformat_minor": 2
}
